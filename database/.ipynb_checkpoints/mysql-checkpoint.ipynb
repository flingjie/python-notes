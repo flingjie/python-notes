{
 "cells": [
  {
   "cell_type": "markdown",
   "metadata": {},
   "source": [
    "1. enter shell\n",
    "mysql --user=username --password=password\n",
    "\n",
    "2. drop database\n",
    "DROP DATABASE `jeanine`;\n",
    "\n",
    "3. create database\n",
    "CREATE SCHEMA `jeanine` DEFAULT CHARACTER SET utf8 ;\n",
    "\n",
    "4. export all databases\n",
    "mysqldump -u root -p --all-databases > alldb.sql\n",
    "\n",
    "5. import database\n",
    "mysql -u root -p < alldb.sql"
   ]
  }
 ],
 "metadata": {
  "kernelspec": {
   "display_name": "Python 3",
   "language": "python",
   "name": "python3"
  },
  "language_info": {
   "codemirror_mode": {
    "name": "ipython",
    "version": 3
   },
   "file_extension": ".py",
   "mimetype": "text/x-python",
   "name": "python",
   "nbconvert_exporter": "python",
   "pygments_lexer": "ipython3",
   "version": "3.4.0"
  }
 },
 "nbformat": 4,
 "nbformat_minor": 0
}
