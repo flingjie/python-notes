{
 "cells": [
  {
   "cell_type": "markdown",
   "metadata": {},
   "source": [
    "MongoDB是一个由C++语言编写的文档型数据库。"
   ]
  },
  {
   "cell_type": "markdown",
   "metadata": {},
   "source": [
    "### 特点"
   ]
  },
  {
   "cell_type": "markdown",
   "metadata": {},
   "source": [
    "* 面向文档，不需要严格的结构。当产品有很多自定义属性时，在关系型数据库往往要用一些复杂的解决方案来实现，而对MongoDB来说是很容易实现的。\n",
    "* 高性能，与MySQL相比，千万级别的文档对象，对有索引的ID的查询不会比MySQL慢，而对非索引字段的查询就与很大的优势。MySQL实际无法胜任大数据量下任意字段的查询，而MongoDB在这方面的查询性能没有问题。\n",
    "* 高可用，易于安装使用，还支持主从模式及服务器之间的复制。\n",
    "* 易扩展，相比于关系型数据库中需要进行复杂的手动分片，MongoDB可以自动的按照用户给定的键值把数据分片，并且动态地平衡各个系统的数据量。\n",
    "* 富查询，MongoDB中支持各种嵌入查询，并且可以建立索引，提高性能，方便使用。"
   ]
  },
  {
   "cell_type": "markdown",
   "metadata": {},
   "source": [
    "### 不足之处"
   ]
  },
  {
   "cell_type": "markdown",
   "metadata": {},
   "source": [
    "* 对内存要求比较大，至少要保证热数据（索引，数据及系统其它开销）都能装进内存。\n",
    "* 锁粒度太粗，MongoDB使用的是一把全局的读写锁。\n",
    "* 用户权限方面比较弱，这一点MongoDB官方推荐的是将机器部署在安全的内网环境中，尽量不要用权限。"
   ]
  },
  {
   "cell_type": "code",
   "execution_count": null,
   "metadata": {
    "collapsed": true
   },
   "outputs": [],
   "source": []
  }
 ],
 "metadata": {
  "kernelspec": {
   "display_name": "Python 3",
   "language": "python",
   "name": "python3"
  },
  "language_info": {
   "codemirror_mode": {
    "name": "ipython",
    "version": 3
   },
   "file_extension": ".py",
   "mimetype": "text/x-python",
   "name": "python",
   "nbconvert_exporter": "python",
   "pygments_lexer": "ipython3",
   "version": "3.4.0"
  }
 },
 "nbformat": 4,
 "nbformat_minor": 0
}
