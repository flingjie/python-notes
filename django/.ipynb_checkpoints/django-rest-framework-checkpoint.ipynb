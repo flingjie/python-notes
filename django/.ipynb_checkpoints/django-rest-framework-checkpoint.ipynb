{
 "cells": [
  {
   "cell_type": "markdown",
   "metadata": {},
   "source": [
    "# ImageField use local File"
   ]
  },
  {
   "cell_type": "code",
   "execution_count": null,
   "metadata": {
    "collapsed": true
   },
   "outputs": [],
   "source": [
    "# models.py\n",
    "class ProductImage(models.Model):\n",
    "    product = models.ForeignKey(Product, verbose_name=\"商品\")\n",
    "    image = models.ImageField(\"图片\", upload_to=\"products/%Y/%m/%d\",\n",
    "                              default=None)\n",
    "    is_primary = models.BooleanField(\"第一张\", default=False)"
   ]
  },
  {
   "cell_type": "code",
   "execution_count": null,
   "metadata": {
    "collapsed": true
   },
   "outputs": [],
   "source": [
    "# controllers.py\n",
    "\n",
    "# handle request\n",
    "filename = os.path.join(TMP_ROOT, \"image.png\")\n",
    "from base64 import b64decode\n",
    "f = open(filename, \"wb\")\n",
    "l = len(\"data:image/png;base64,\")\n",
    "# ignore header\n",
    "f.write(b64decode(img[l:]))\n",
    "product_image = ProductImage.objects.create(\n",
    "    product=product,\n",
    "    is_primary=False\n",
    ")\n",
    "f = open(filename, 'rb')\n",
    "image = File(f)\n",
    "product_image.image.save(filename, image, save=True)"
   ]
  }
 ],
 "metadata": {
  "kernelspec": {
   "display_name": "Python 3",
   "language": "python",
   "name": "python3"
  },
  "language_info": {
   "codemirror_mode": {
    "name": "ipython",
    "version": 3
   },
   "file_extension": ".py",
   "mimetype": "text/x-python",
   "name": "python",
   "nbconvert_exporter": "python",
   "pygments_lexer": "ipython3",
   "version": "3.4.0"
  }
 },
 "nbformat": 4,
 "nbformat_minor": 0
}
