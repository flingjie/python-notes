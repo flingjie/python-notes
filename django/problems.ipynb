{
 "cells": [
  {
   "cell_type": "markdown",
   "metadata": {},
   "source": [
    "**引用一个google的jquery问题**"
   ]
  },
  {
   "cell_type": "markdown",
   "metadata": {},
   "source": [
    "引用地方是debug toolbar插件，位置在site-packages/debug_toolbar/templates/debug_toolbar/base.html文件中。为JQUERY_URL变量，默认值为'//ajax.googleapis.com/ajax/libs/jquery/2.1.0/jquery.min.js'。"
   ]
  },
  {
   "cell_type": "markdown",
   "metadata": {},
   "source": [
    "**解决办法**"
   ]
  },
  {
   "cell_type": "markdown",
   "metadata": {},
   "source": [
    "没有找到合适的解决办法，暂时直接在原文件上修改解决。"
   ]
  },
  {
   "cell_type": "code",
   "execution_count": null,
   "metadata": {
    "collapsed": true
   },
   "outputs": [],
   "source": []
  }
 ],
 "metadata": {
  "kernelspec": {
   "display_name": "Python 3",
   "language": "python",
   "name": "python3"
  },
  "language_info": {
   "codemirror_mode": {
    "name": "ipython",
    "version": 3
   },
   "file_extension": ".py",
   "mimetype": "text/x-python",
   "name": "python",
   "nbconvert_exporter": "python",
   "pygments_lexer": "ipython3",
   "version": "3.4.0"
  }
 },
 "nbformat": 4,
 "nbformat_minor": 0
}
