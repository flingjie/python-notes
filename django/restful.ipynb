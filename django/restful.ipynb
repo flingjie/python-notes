{
 "cells": [
  {
   "cell_type": "markdown",
   "metadata": {},
   "source": [
    "# rest-framework\n",
    "\n",
    "**优势**\n",
    "1. 有基于浏览器的调试页面\n",
    "2. 灵活，定制性高"
   ]
  },
  {
   "cell_type": "markdown",
   "metadata": {},
   "source": [
    "# tastypie\n",
    "\n",
    "**优势** \n",
    "\n",
    "1.使用简单\n",
    "\n",
    "**不足**\n",
    "\n",
    "1. 不灵活"
   ]
  }
 ],
 "metadata": {
  "kernelspec": {
   "display_name": "Python 3",
   "language": "python",
   "name": "python3"
  },
  "language_info": {
   "codemirror_mode": {
    "name": "ipython",
    "version": 3
   },
   "file_extension": ".py",
   "mimetype": "text/x-python",
   "name": "python",
   "nbconvert_exporter": "python",
   "pygments_lexer": "ipython3",
   "version": "3.4.0"
  }
 },
 "nbformat": 4,
 "nbformat_minor": 0
}
