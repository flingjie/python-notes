{
 "metadata": {
  "name": "",
  "signature": "sha256:61859a43cab595a87e49ec56ac54aafe11ab9fa9d236f538bffd9c0ab326c697"
 },
 "nbformat": 3,
 "nbformat_minor": 0,
 "worksheets": [
  {
   "cells": [
    {
     "cell_type": "markdown",
     "metadata": {},
     "source": [
      "# \u4e8c\u3001Python\u5165\u95e8\n",
      "Pythoner\u6709\u4e91\uff1a\u4eba\u751f\u82e6\u77ed\uff0cPython\u662f\u5cb8\u3002  \n",
      "Python\u662f\u4e00\u95e8\u7b80\u5355\u4e14\u529f\u80fd\u5f3a\u5927\u7684\u7f16\u7a0b\u8bed\u8a00\u3002Python\u662f\u4e00\u95e8\u52a8\u6001\u8bed\u8a00\uff0clPython\u5df2\u7ecf\u5728web\u5f00\u53d1\u3001\u7cfb\u7edf\u8fd0\u7ef4\u3001\u673a\u5668\u5b66\u4e60\u7b49\u5404\u4e2a\u9886\u57df\u6709\u4e86\u5e7f\u6cdb\u7684\u5e94\u7528\u3002"
     ]
    },
    {
     "cell_type": "markdown",
     "metadata": {},
     "source": [
      "\u9996\u5148\uff0c\u8ba9\u6211\u4eec\u770b\u770b\u7684Python\u7684\u8bbe\u8ba1\u54f2\u5b66\u3002\u5728\u7ec8\u7aef\u8f93\u5165ipython\uff0c\u8f93\u5165\u5982\u4e0b\u547d\u4ee4:"
     ]
    },
    {
     "cell_type": "code",
     "collapsed": false,
     "input": [
      "import this"
     ],
     "language": "python",
     "metadata": {},
     "outputs": [
      {
       "output_type": "stream",
       "stream": "stdout",
       "text": [
        "The Zen of Python, by Tim Peters\n",
        "\n",
        "Beautiful is better than ugly.\n",
        "Explicit is better than implicit.\n",
        "Simple is better than complex.\n",
        "Complex is better than complicated.\n",
        "Flat is better than nested.\n",
        "Sparse is better than dense.\n",
        "Readability counts.\n",
        "Special cases aren't special enough to break the rules.\n",
        "Although practicality beats purity.\n",
        "Errors should never pass silently.\n",
        "Unless explicitly silenced.\n",
        "In the face of ambiguity, refuse the temptation to guess.\n",
        "There should be one-- and preferably only one --obvious way to do it.\n",
        "Although that way may not be obvious at first unless you're Dutch.\n",
        "Now is better than never.\n",
        "Although never is often better than *right* now.\n",
        "If the implementation is hard to explain, it's a bad idea.\n",
        "If the implementation is easy to explain, it may be a good idea.\n",
        "Namespaces are one honking great idea -- let's do more of those!\n"
       ]
      }
     ],
     "prompt_number": 1
    },
    {
     "cell_type": "markdown",
     "metadata": {},
     "source": [
      "\u4e0a\u8ff0\u5185\u5bb9\u4fbf\u662fPython\u7684\u8bbe\u8ba1\u54f2\u5b66\uff0c\u5728\u4f7f\u7528Python\u7684\u8fc7\u7a0b\u4e2d\u53ef\u4ee5\u6162\u6162\u4f53\u4f1a\u3002\u63a5\u4e0b\u6765\u7b80\u5355\u56de\u987e\u4e00\u4e0bPython\u7684\u57fa\u7840\u77e5\u8bc6\u3002"
     ]
    },
    {
     "cell_type": "markdown",
     "metadata": {},
     "source": [
      "## \u8d4b\u503c"
     ]
    },
    {
     "cell_type": "code",
     "collapsed": false,
     "input": [
      "# \u7b80\u5355\u8d4b\u503c\n",
      "a = 1"
     ],
     "language": "python",
     "metadata": {},
     "outputs": [],
     "prompt_number": 2
    },
    {
     "cell_type": "code",
     "collapsed": false,
     "input": [
      "a"
     ],
     "language": "python",
     "metadata": {},
     "outputs": [
      {
       "metadata": {},
       "output_type": "pyout",
       "prompt_number": 3,
       "text": [
        "1"
       ]
      }
     ],
     "prompt_number": 3
    },
    {
     "cell_type": "code",
     "collapsed": false,
     "input": [
      "# \u591a\u53d8\u91cf\u8d4b\u503c\n",
      "a, b = 1, 2"
     ],
     "language": "python",
     "metadata": {},
     "outputs": [],
     "prompt_number": 4
    },
    {
     "cell_type": "code",
     "collapsed": false,
     "input": [
      "a"
     ],
     "language": "python",
     "metadata": {},
     "outputs": [
      {
       "metadata": {},
       "output_type": "pyout",
       "prompt_number": 5,
       "text": [
        "1"
       ]
      }
     ],
     "prompt_number": 5
    },
    {
     "cell_type": "code",
     "collapsed": false,
     "input": [
      "b"
     ],
     "language": "python",
     "metadata": {},
     "outputs": [
      {
       "metadata": {},
       "output_type": "pyout",
       "prompt_number": 6,
       "text": [
        "2"
       ]
      }
     ],
     "prompt_number": 6
    },
    {
     "cell_type": "markdown",
     "metadata": {},
     "source": [
      "## \u51fd\u6570"
     ]
    },
    {
     "cell_type": "code",
     "collapsed": false,
     "input": [
      "def hello():\n",
      "    print(\"Hello Python\")"
     ],
     "language": "python",
     "metadata": {},
     "outputs": [],
     "prompt_number": 7
    },
    {
     "cell_type": "code",
     "collapsed": false,
     "input": [
      "hello()"
     ],
     "language": "python",
     "metadata": {},
     "outputs": [
      {
       "output_type": "stream",
       "stream": "stdout",
       "text": [
        "Hello Python\n"
       ]
      }
     ],
     "prompt_number": 8
    },
    {
     "cell_type": "markdown",
     "metadata": {},
     "source": [
      "## \u63a7\u5236\u8bed\u53e5"
     ]
    },
    {
     "cell_type": "code",
     "collapsed": false,
     "input": [
      "# if\n",
      "x = 1\n",
      "if x > 0:\n",
      "    print(\"x\u662f\u6b63\u6574\u6570\")\n",
      "else:\n",
      "    print(\"x\u4e0d\u662f\u6b63\u6574\u6570\")"
     ],
     "language": "python",
     "metadata": {},
     "outputs": [
      {
       "output_type": "stream",
       "stream": "stdout",
       "text": [
        "x\u662f\u6b63\u6574\u6570\n"
       ]
      }
     ],
     "prompt_number": 9
    },
    {
     "cell_type": "markdown",
     "metadata": {},
     "source": [
      "\u6ce8\uff1a\u5176\u4e2d\u9700\u8981\u6ce8\u610f\u7684\u662f\uff0cNone\u3001\u7a7a\u5b57\u7b26\u4e32\u3001\u7a7a\u5217\u8868\u7684\u5e03\u5c14\u503c\u90fd\u4e3a\u5047\u3002"
     ]
    },
    {
     "cell_type": "code",
     "collapsed": false,
     "input": [
      "# for\n",
      "for i in [1, 2, 3]:\n",
      "    print(i)"
     ],
     "language": "python",
     "metadata": {},
     "outputs": [
      {
       "output_type": "stream",
       "stream": "stdout",
       "text": [
        "1\n",
        "2\n",
        "3\n"
       ]
      }
     ],
     "prompt_number": 10
    },
    {
     "cell_type": "code",
     "collapsed": false,
     "input": [
      "# while\n",
      "x = 0\n",
      "while x < 5:\n",
      "    print(x)\n",
      "    x += 1"
     ],
     "language": "python",
     "metadata": {},
     "outputs": [
      {
       "output_type": "stream",
       "stream": "stdout",
       "text": [
        "0\n",
        "1\n",
        "2\n",
        "3\n",
        "4\n"
       ]
      }
     ],
     "prompt_number": 11
    },
    {
     "cell_type": "markdown",
     "metadata": {},
     "source": [
      "## \u5f02\u5e38\u5904\u7406"
     ]
    },
    {
     "cell_type": "code",
     "collapsed": true,
     "input": [
      "# \u6355\u83b7\u5f02\u5e38\u9519\u8bef\n",
      "try:\n",
      "    x = 1 / 0\n",
      "except Exception as e:\n",
      "    print e  # \u6253\u5370\u5f02\u5e38\u4fe1\u606f"
     ],
     "language": "python",
     "metadata": {},
     "outputs": [
      {
       "output_type": "stream",
       "stream": "stdout",
       "text": [
        "integer division or modulo by zero\n"
       ]
      }
     ],
     "prompt_number": 12
    },
    {
     "cell_type": "markdown",
     "metadata": {},
     "source": [
      "\u7b80\u5355\u56de\u987e\u4e86\u4e0bPython\u57fa\u7840\uff0c\u63a5\u4e0b\u6765\u662fPython\u7684\u6570\u636e\u7ed3\u6784\u3002"
     ]
    }
   ],
   "metadata": {}
  }
 ]
}