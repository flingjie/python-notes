{
 "metadata": {
  "kernelspec": {
   "display_name": "Python 3",
   "language": "python",
   "name": "python3"
  },
  "language_info": {
   "codemirror_mode": {
    "name": "ipython",
    "version": 3
   },
   "file_extension": ".py",
   "mimetype": "text/x-python",
   "name": "python",
   "nbconvert_exporter": "python",
   "pygments_lexer": "ipython3",
   "version": "3.4.3"
  },
  "name": "",
  "signature": "sha256:f8d85fd8e006f013418f883ebb58b4d20faf334cfbb7569f9df37f4b51cddb11"
 },
 "nbformat": 3,
 "nbformat_minor": 0,
 "worksheets": [
  {
   "cells": [
    {
     "cell_type": "markdown",
     "metadata": {},
     "source": [
      "# \u516d\u3001\u51fd\u6570\u5f0f\u7f16\u7a0b\n",
      "\u672c\u8282\u5c06\u56de\u987ePython\u7684\u51fd\u6570\u5f0f\u7f16\u7a0b\u77e5\u8bc6\u3002"
     ]
    },
    {
     "cell_type": "markdown",
     "metadata": {},
     "source": [
      "\u6240\u8c13\u51fd\u6570\u5f0f\u7f16\u7a0b\uff0c\u5c31\u662f\u4f7f\u7528\u4e00\u7cfb\u5217\u7684\u51fd\u6570\u6765\u89e3\u51b3\u95ee\u9898\u3002\u51fd\u6570\u5f0f\u7f16\u7a0b\u7684\u4f18\u70b9\u5728\u4e8e\u4ee3\u7801\u7b80\u6d01\uff0c \u907f\u514d\u201c\u526f\u4f5c\u7528\u201d\u3002\u56e0\u4e3a\u4e0d\u4f9d\u8d56\u3001\u4e5f\u4e0d\u4f1a\u6539\u53d8\u5916\u754c\u7684\u72b6\u6001\uff0c\u53ea\u8981\u7ed9\u5b9a\u8f93\u5165\u53c2\u6570\uff0c\u8fd4\u56de\u7684\u7ed3\u679c\u5fc5\u5b9a\u76f8\u540c\u3002\u6240\u4ee5\uff0c\u53ef\u4ee5\u5f88\u65b9\u4fbf\u7684\u8fdb\u884c\u5355\u5143\u6d4b\u8bd5\u548c\u6a21\u5757\u5316\u7ec4\u5408\u3002\u52a0\u4e0a\u4e0d\u4fee\u6539\u72b6\u6001\uff0c\u4e0d\u5b58\u5728\u201c\u9501\u201d\u7684\u95ee\u9898\uff0c\u7279\u522b\u5229\u4e8e\u5e76\u53d1\u7f16\u7a0b\u3002"
     ]
    },
    {
     "cell_type": "markdown",
     "metadata": {},
     "source": [
      "Python\u4e2d\u51fd\u6570\u5f0f\u7f16\u7a0b\u7684\u57fa\u672c\u8981\u7d20\u5305\u62eclambda\u5173\u952e\u5b57\uff0cmap()\u3001reduce()\u3001filter()\u7b49\u3002"
     ]
    },
    {
     "cell_type": "markdown",
     "metadata": {},
     "source": [
      "## lambda"
     ]
    },
    {
     "cell_type": "markdown",
     "metadata": {},
     "source": [
      "lambda\u662f\u4eceLisp\u501f\u9274\u8fc7\u6765\u7684\uff0c\u7528\u6765\u5b9a\u4e49\u533f\u540d\u51fd\u6570\u3002\u5982"
     ]
    },
    {
     "cell_type": "code",
     "collapsed": true,
     "input": [
      "double_x = lambda x: x * 2"
     ],
     "language": "python",
     "metadata": {},
     "outputs": [],
     "prompt_number": 1
    },
    {
     "cell_type": "code",
     "collapsed": true,
     "input": [
      "double_x(8)"
     ],
     "language": "python",
     "metadata": {},
     "outputs": [
      {
       "metadata": {},
       "output_type": "pyout",
       "prompt_number": 2,
       "text": [
        "16"
       ]
      }
     ],
     "prompt_number": 2
    },
    {
     "cell_type": "markdown",
     "metadata": {},
     "source": [
      "\u4f7f\u7528lambda\u53ef\u4ee5\u5f88\u65b9\u4fbf\u5feb\u901f\u7684\u5b9a\u4e49\u90a3\u4e9b\u77ed\u5c0f\u7684\u51fd\u6570\u3002"
     ]
    },
    {
     "cell_type": "markdown",
     "metadata": {},
     "source": [
      "## map( func, seq1[, seq2...] )"
     ]
    },
    {
     "cell_type": "markdown",
     "metadata": {},
     "source": [
      "\u5c06func\u4f5c\u7528\u4e8eseq\u4e2d\u7684\u6bcf\u4e00\u4e2a\u5143\u7d20\uff0c\u5e76\u7528\u4e00\u4e2a\u5217\u8868\u7ed9\u51fa\u8fd4\u56de\u503c\u3002"
     ]
    },
    {
     "cell_type": "code",
     "collapsed": false,
     "input": [
      "result = map(double_x, [1, 2, 3, 4 ,5])"
     ],
     "language": "python",
     "metadata": {},
     "outputs": [],
     "prompt_number": 3
    },
    {
     "cell_type": "code",
     "collapsed": false,
     "input": [
      "list(result)"
     ],
     "language": "python",
     "metadata": {},
     "outputs": [
      {
       "metadata": {},
       "output_type": "pyout",
       "prompt_number": 4,
       "text": [
        "[2, 4, 6, 8, 10]"
       ]
      }
     ],
     "prompt_number": 4
    },
    {
     "cell_type": "markdown",
     "metadata": {},
     "source": [
      "## reduce( func, seq[, init] )"
     ]
    },
    {
     "cell_type": "markdown",
     "metadata": {},
     "source": [
      "reduce\u6bcf\u6b21\u8fed\u4ee3\uff0c\u5c06\u4e0a\u4e00\u6b21\u7684\u8fed\u4ee3\u7ed3\u679c\uff08\u7b2c\u4e00\u6b21\u65f6\u4e3ainit\u7684\u5143\u7d20\uff0c\u5982\u6ca1\u6709init\u5219\u4e3aseq\u7684\u7b2c\u4e00\u4e2a\u5143\u7d20\uff09\u4e0e\u4e0b\u4e00\u4e2a\u5143\u7d20\u4e00\u540c\u6267\u884c\u4e00\u4e2a\u4e8c\u5143\u7684func\u51fd\u6570\u3002\u5728reduce\u51fd\u6570\u4e2d\uff0cinit\u662f\u53ef\u9009\u7684\uff0c\u5982\u679c\u4f7f\u7528\uff0c\u5219\u4f5c\u4e3a\u7b2c\u4e00\u6b21\u8fed\u4ee3\u7684\u7b2c\u4e00\u4e2a\u5143\u7d20\u4f7f\u7528\u3002\u6bd4\u5982reduce(func, [1, 2,3]) \u76f8\u5f53\u4e8e func( func(1, 2), 3)\u3002"
     ]
    },
    {
     "cell_type": "code",
     "collapsed": false,
     "input": [
      "from functools import reduce\n",
      "\n",
      "# \u5c061\u81f35\u7d2f\u52a0\n",
      "reduce(lambda x,y: x + y, [1, 2, 3, 4, 5])"
     ],
     "language": "python",
     "metadata": {},
     "outputs": [
      {
       "metadata": {},
       "output_type": "pyout",
       "prompt_number": 5,
       "text": [
        "15"
       ]
      }
     ],
     "prompt_number": 5
    },
    {
     "cell_type": "markdown",
     "metadata": {},
     "source": [
      "## filter(func, seq)"
     ]
    },
    {
     "cell_type": "markdown",
     "metadata": {},
     "source": [
      "\u5e38\u7528\u6765\u8fc7\u6ee4\u5217\u8868\uff0c\u5982\u679cfunc\u8fd4\u56de\u503c\u662fTrue\uff0c\u5219\u6dfb\u52a0\u8fdb\u8fd4\u56de\u7ed3\u679c\u4e2d\u3002"
     ]
    },
    {
     "cell_type": "code",
     "collapsed": false,
     "input": [
      "# \u8fc7\u6ee4\u6b63\u6574\u6570\n",
      "result = filter(lambda x: x > 0, [-13, -5, 0, 1, 3, 7, -7])"
     ],
     "language": "python",
     "metadata": {},
     "outputs": [],
     "prompt_number": 6
    },
    {
     "cell_type": "code",
     "collapsed": false,
     "input": [
      "list(result)"
     ],
     "language": "python",
     "metadata": {},
     "outputs": [
      {
       "metadata": {},
       "output_type": "pyout",
       "prompt_number": 7,
       "text": [
        "[1, 3, 7]"
       ]
      }
     ],
     "prompt_number": 7
    },
    {
     "cell_type": "code",
     "collapsed": false,
     "input": [],
     "language": "python",
     "metadata": {},
     "outputs": [],
     "prompt_number": 7
    }
   ],
   "metadata": {}
  }
 ]
}