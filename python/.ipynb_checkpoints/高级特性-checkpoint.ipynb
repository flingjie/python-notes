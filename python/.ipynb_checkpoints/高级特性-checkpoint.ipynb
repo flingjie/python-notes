{
 "metadata": {
  "name": "",
  "signature": "sha256:3aed0b8c161e4c119a50ff5745edff888934cf9769199de67f9bcfd39fa2c155"
 },
 "nbformat": 3,
 "nbformat_minor": 0,
 "worksheets": [
  {
   "cells": [
    {
     "cell_type": "markdown",
     "metadata": {},
     "source": [
      "\u6700\u540e\u4e5f\u6700\u91cd\u8981\u7684\uff0c\u5c31\u662fPython\u7684\u9ad8\u7ea7\u7279\u6027\u3002\u5305\u62ec\u8fed\u4ee3\u5668\u4e0e\u751f\u6210\u5668\u3001\u88c5\u9970\u5668\u3001\u63cf\u8ff0\u5668\u3001\u4e0a\u4e0b\u6587\u7ba1\u7406\u5668\u548c\u7334\u5b50\u8865\u4e01\u3002"
     ]
    },
    {
     "cell_type": "markdown",
     "metadata": {},
     "source": [
      "## \u8fed\u4ee3\u5668\u4e0e\u751f\u6210\u5668"
     ]
    },
    {
     "cell_type": "markdown",
     "metadata": {},
     "source": [
      "\u57fa\u672c\u4e0a\uff0c \u8fed\u4ee3\u5668\u662f\u542b\u6709 .next() \u65b9\u6cd5\u7684\u5bf9\u8c61\u3002\u5728Python\u4e2d\u5faa\u73af\u679a\u4e3e\u4e00\u4e2a\u5bf9\u8c61\u65f6\uff0c\u5176\u5b9e\u5728\u8c03\u7528\u5bf9\u8c61\u4e2d\u8c03\u7528iter\uff08\uff09\u65b9\u6cd5\u3002\u8be5\u51fd\u6570\u8fd4\u56de\u4e00\u4e2a\u5b9a\u4e49\u4e86next\uff08\uff09\u65b9\u6cd5\u7684\u8fed\u4ee3\u5668\u5bf9\u8c61\uff0c\u5b83\u5728\u5bb9\u5668\u4e2d\u9010\u4e00\u8bbf\u95ee\u5143\u7d20\u3002\u6ca1\u6709\u540e\u7eed\u7684\u5143\u7d20\u65f6\uff0c next\uff08\uff09\u629b\u51fa\u4e00\u4e2a StopIteration\u5f02\u5e38\u3002\u4f7f\u7528Python\u5185\u7f6e\u7684iter\uff08\uff09\u65b9\u6cd5\u53ef\u4ee5\u751f\u6210\u4e00\u4e2a\u8fed\u4ee3\u5668\u3002"
     ]
    },
    {
     "cell_type": "code",
     "collapsed": false,
     "input": [
      "a = iter([0, 1, 2])"
     ],
     "language": "python",
     "metadata": {},
     "outputs": [],
     "prompt_number": 1
    },
    {
     "cell_type": "code",
     "collapsed": false,
     "input": [
      "a"
     ],
     "language": "python",
     "metadata": {},
     "outputs": [
      {
       "metadata": {},
       "output_type": "pyout",
       "prompt_number": 2,
       "text": [
        "<listiterator at 0x7f36b21ce2d0>"
       ]
      }
     ],
     "prompt_number": 2
    },
    {
     "cell_type": "code",
     "collapsed": false,
     "input": [
      "next(a)"
     ],
     "language": "python",
     "metadata": {},
     "outputs": [
      {
       "metadata": {},
       "output_type": "pyout",
       "prompt_number": 3,
       "text": [
        "1"
       ]
      }
     ],
     "prompt_number": 3
    },
    {
     "cell_type": "code",
     "collapsed": false,
     "input": [
      "next(a)"
     ],
     "language": "python",
     "metadata": {},
     "outputs": [
      {
       "metadata": {},
       "output_type": "pyout",
       "prompt_number": 4,
       "text": [
        "2"
       ]
      }
     ],
     "prompt_number": 4
    },
    {
     "cell_type": "code",
     "collapsed": false,
     "input": [
      "next(a)"
     ],
     "language": "python",
     "metadata": {},
     "outputs": [
      {
       "metadata": {},
       "output_type": "pyout",
       "prompt_number": 5,
       "text": [
        "3"
       ]
      }
     ],
     "prompt_number": 5
    },
    {
     "cell_type": "code",
     "collapsed": false,
     "input": [
      "next(a)"
     ],
     "language": "python",
     "metadata": {},
     "outputs": [
      {
       "ename": "StopIteration",
       "evalue": "",
       "output_type": "pyerr",
       "traceback": [
        "\u001b[1;31m---------------------------------------------------------------------------\u001b[0m\n\u001b[1;31mStopIteration\u001b[0m                             Traceback (most recent call last)",
        "\u001b[1;32m<ipython-input-6-3f6e2eea332d>\u001b[0m in \u001b[0;36m<module>\u001b[1;34m()\u001b[0m\n\u001b[1;32m----> 1\u001b[1;33m \u001b[0mnext\u001b[0m\u001b[1;33m(\u001b[0m\u001b[0ma\u001b[0m\u001b[1;33m)\u001b[0m\u001b[1;33m\u001b[0m\u001b[0m\n\u001b[0m",
        "\u001b[1;31mStopIteration\u001b[0m: "
       ]
      }
     ],
     "prompt_number": 6
    },
    {
     "cell_type": "markdown",
     "metadata": {},
     "source": [
      "\u5728for\u5faa\u73af\u4e2d\u5c31\u662f\u7531\u8fd9\u4e2aStopIteration\u5f02\u5e38\u901a\u77e5for\u8bed\u53e5\u5faa\u73af\u7ed3\u675f\u7684\u3002"
     ]
    },
    {
     "cell_type": "markdown",
     "metadata": {},
     "source": [
      "\u751f\u6210\u5668\u662f\u521b\u5efa\u8fed\u4ee3\u5668\u7684\u7b80\u5355\u800c\u5f3a\u5927\u7684\u5de5\u5177\u3002\u5b83\u57fa\u4e8eyield\u6307\u4ee4\uff0c\u5141\u8bb8\u505c\u6b62\u51fd\u6570\u5e76\u7acb\u5373\u8fd4\u56de\u7ed3\u679c\u3002\n",
      "\u56e0\u4e3a\u5176\u4fdd\u5b58\u5176\u6267\u884c\u4e0a\u4e0b\u6587\uff0c\u6240\u4ee5\u8fd8\u6709\u4ee5\u4e0b\u4f18\u70b9\uff1a\n",
      "1. \u60f0\u6027\u6c42\u503c\uff1b \n",
      "2. \u5728\u5904\u7406\u5927\u7684\u5217\u8868\u65f6\u4e0d\u9700\u8981\u4e00\u6b21\u6027\u52a0\u8f7d\u5168\u90e8\u6570\u636e\uff0c\u53ef\u4ee5\u51cf\u5c0f\u5185\u5b58\u4f7f\u7528\uff1b \n",
      "\u9664\u975e\u7279\u6b8a\u7684\u539f\u56e0\uff0c\u5e94\u8be5\u5728\u4ee3\u7801\u4e2d\u4f7f\u7528\u751f\u6210\u5668\u3002"
     ]
    },
    {
     "cell_type": "code",
     "collapsed": false,
     "input": [
      "# \u5b9a\u4e49\u4e00\u4e2a\u751f\u6210\u5668\n",
      "def my_range(n):\n",
      "    i = 0\n",
      "    while i < n:\n",
      "        yield i\n",
      "        i += 1"
     ],
     "language": "python",
     "metadata": {},
     "outputs": [],
     "prompt_number": 7
    },
    {
     "cell_type": "code",
     "collapsed": false,
     "input": [
      "a = my_range(3)"
     ],
     "language": "python",
     "metadata": {},
     "outputs": [],
     "prompt_number": 8
    },
    {
     "cell_type": "code",
     "collapsed": false,
     "input": [
      "a"
     ],
     "language": "python",
     "metadata": {},
     "outputs": []
    },
    {
     "cell_type": "code",
     "collapsed": false,
     "input": [
      "a.next()"
     ],
     "language": "python",
     "metadata": {},
     "outputs": [
      {
       "metadata": {},
       "output_type": "pyout",
       "prompt_number": 9,
       "text": [
        "0"
       ]
      }
     ],
     "prompt_number": 9
    },
    {
     "cell_type": "code",
     "collapsed": false,
     "input": [
      "a.next()"
     ],
     "language": "python",
     "metadata": {},
     "outputs": [
      {
       "metadata": {},
       "output_type": "pyout",
       "prompt_number": 10,
       "text": [
        "1"
       ]
      }
     ],
     "prompt_number": 10
    },
    {
     "cell_type": "code",
     "collapsed": false,
     "input": [
      "a.next()"
     ],
     "language": "python",
     "metadata": {},
     "outputs": [
      {
       "metadata": {},
       "output_type": "pyout",
       "prompt_number": 11,
       "text": [
        "2"
       ]
      }
     ],
     "prompt_number": 11
    },
    {
     "cell_type": "code",
     "collapsed": false,
     "input": [
      "a.next()"
     ],
     "language": "python",
     "metadata": {},
     "outputs": [
      {
       "ename": "StopIteration",
       "evalue": "",
       "output_type": "pyerr",
       "traceback": [
        "\u001b[1;31m---------------------------------------------------------------------------\u001b[0m\n\u001b[1;31mStopIteration\u001b[0m                             Traceback (most recent call last)",
        "\u001b[1;32m<ipython-input-12-aa817a57a973>\u001b[0m in \u001b[0;36m<module>\u001b[1;34m()\u001b[0m\n\u001b[1;32m----> 1\u001b[1;33m \u001b[0ma\u001b[0m\u001b[1;33m.\u001b[0m\u001b[0mnext\u001b[0m\u001b[1;33m(\u001b[0m\u001b[1;33m)\u001b[0m\u001b[1;33m\u001b[0m\u001b[0m\n\u001b[0m",
        "\u001b[1;31mStopIteration\u001b[0m: "
       ]
      }
     ],
     "prompt_number": 12
    },
    {
     "cell_type": "markdown",
     "metadata": {},
     "source": [
      "\u9664\u4e86\u4f7f\u7528yield\u4e4b\u5916\uff0c\u8fd8\u53ef\u4ee5\u4f7f\u7528\u751f\u6210\u5668\u8868\u8fbe\u5f0f\u6765\u4ea7\u751f\u4e00\u4e2a\u751f\u6210\u5668\u3002\u5982"
     ]
    },
    {
     "cell_type": "code",
     "collapsed": false,
     "input": [
      "a = (i for i in range(3))"
     ],
     "language": "python",
     "metadata": {},
     "outputs": [],
     "prompt_number": 13
    },
    {
     "cell_type": "code",
     "collapsed": false,
     "input": [
      "a"
     ],
     "language": "python",
     "metadata": {},
     "outputs": [
      {
       "metadata": {},
       "output_type": "pyout",
       "prompt_number": 14,
       "text": [
        "<generator object <genexpr> at 0x7f36b2186cd0>"
       ]
      }
     ],
     "prompt_number": 14
    },
    {
     "cell_type": "markdown",
     "metadata": {},
     "source": [
      "\u6ce8\u610f\uff0c\u8fd9\u91cc\u4f7f\u7528\u5706\u62ec\u53f7\u800c\u975e\u65b9\u62ec\u53f7\u3002"
     ]
    },
    {
     "cell_type": "markdown",
     "metadata": {},
     "source": [
      "## \u88c5\u9970\u5668"
     ]
    },
    {
     "cell_type": "markdown",
     "metadata": {},
     "source": [
      "\u88c5\u9970\u5668\u7684\u4f5c\u7528\u662f\u5728\u539f\u6709\u5bf9\u8c61\u7684\u57fa\u7840\u4e0a\u6dfb\u52a0\u989d\u5916\u529f\u80fd\u3002python\u4e2d\u53ef\u4ee5\u5c06\u51fd\u6570\u4f5c\u4e3a\u53c2 \u6570\uff0c\u8fdb\u884c\u88c5\u9970\uff0c\u8fd4\u56de\u7ecf\u8fc7\u4fee\u9970\u8fc7\u7684\u51fd\u6570\uff0c\u6bd4\u5982\uff1a"
     ]
    },
    {
     "cell_type": "code",
     "collapsed": false,
     "input": [
      "def makebold(fn):\n",
      "    def wrapper():\n",
      "        return \"<b>\" + fn() + \"</b>\"\n",
      "    return wrapper\n",
      "\n",
      "def hello_world():\n",
      "    return \"hello world\""
     ],
     "language": "python",
     "metadata": {},
     "outputs": [],
     "prompt_number": 19
    },
    {
     "cell_type": "code",
     "collapsed": false,
     "input": [
      "# \u4f7f\u7528\u88c5\u9970\u5668\u524d\n",
      "hello_world()"
     ],
     "language": "python",
     "metadata": {},
     "outputs": [
      {
       "metadata": {},
       "output_type": "pyout",
       "prompt_number": 20,
       "text": [
        "'hello world'"
       ]
      }
     ],
     "prompt_number": 20
    },
    {
     "cell_type": "code",
     "collapsed": false,
     "input": [
      "# \u4f7f\u7528\u88c5\u9970\u5668\u540e\n",
      "f = makebold(hello_world)\n",
      "f()"
     ],
     "language": "python",
     "metadata": {},
     "outputs": [
      {
       "metadata": {},
       "output_type": "pyout",
       "prompt_number": 21,
       "text": [
        "'<b>hello world</b>'"
       ]
      }
     ],
     "prompt_number": 21
    },
    {
     "cell_type": "markdown",
     "metadata": {},
     "source": [
      "Python\u8fd8\u53ef\u4ee5\u4f7f\u7528\u8bed\u6cd5\u7cd6@\u6765\u8fbe\u5230\u76f8\u540c\u7684\u4f5c\u7528\u3002"
     ]
    },
    {
     "cell_type": "code",
     "collapsed": false,
     "input": [
      "@makebold\n",
      "def hello_world():\n",
      "    return \"hello world\""
     ],
     "language": "python",
     "metadata": {},
     "outputs": [],
     "prompt_number": 22
    },
    {
     "cell_type": "code",
     "collapsed": false,
     "input": [
      "hello_world()"
     ],
     "language": "python",
     "metadata": {},
     "outputs": [
      {
       "metadata": {},
       "output_type": "pyout",
       "prompt_number": 23,
       "text": [
        "'<b>hello world</b>'"
       ]
      }
     ],
     "prompt_number": 23
    },
    {
     "cell_type": "markdown",
     "metadata": {},
     "source": [
      "## \u63cf\u8ff0\u5668"
     ]
    },
    {
     "cell_type": "markdown",
     "metadata": {},
     "source": [
      "\u5728python\u4e2d\u4e00\u4e2a\u63cf\u8ff0\u5668\u5c31\u662f\u5b9a\u4e49\u4e0b\u9762\u7684\u65b9\u6cd5\u4e2d\u4e00\u4e2a\u6216\u591a\u4e2a\u7684\u4e00\u4e2a\u5bf9\u8c61\uff1a"
     ]
    },
    {
     "cell_type": "code",
     "collapsed": false,
     "input": [
      "__get__(self, instance, owner)\n",
      "__set__(self, instance, value)\n",
      "__delete__(self, instance)"
     ],
     "language": "python",
     "metadata": {},
     "outputs": []
    },
    {
     "cell_type": "markdown",
     "metadata": {},
     "source": [
      "\u5982\u679c\u4e00\u4e2a\u5bf9\u8c61\u540c\u65f6\u5b9a\u4e49\u4e86`__get__()`\u548c`__set__()`\uff0c\u5b83\u53eb\u505a\u8d44\u6599\u63cf\u8ff0\u5668\u3002\u53ea\u5b9a\u4e49\u4e86`__get__()`\u7684\u63cf\u8ff0\u5668\u53eb\u505a\u975e\u8d44\u6599\u63cf\u8ff0\u5668(\u4e00\u822c\u7528\u4e8e\u65b9\u6cd5)\u3002 \u8d44\u6599\u63cf\u8ff0\u5668\u548c\u975e\u8d44\u6599\u63cf\u8ff0\u5668\u7684\u533a\u522b\u5728\u4e8e\uff1a\u76f8\u5bf9\u4e8e\u5b9e\u4f8b\u5b57\u5178\u7684\u4f18\u5148\u7ea7\u3002\u5982\u679c\u5b9e\u4f8b\u5b57\u5178\u4e2d\u6709\u4e0e\u8d44\u6599\u63cf\u8ff0\u5668\u540c\u540d\u7684\u5c5e\u6027\uff0c\u4f18\u5148\u4f7f\u7528\u8d44\u6599\u63cf\u8ff0\u5668\u4e2d\u7684\uff1b\u5982\u679c\u5b9e\u4f8b\u5b57\u5178\u4e2d\u6709\u4e0e\u975e\u8d44\u6599\u63cf\u8ff0\u5668\u4e2d\u540c\u540d\u7684\u5c5e\u6027\uff0c\u4f18\u5148\u4f7f\u7528\u5b9e\u4f8b\u5b57\u5178\u4e2d\u7684\u3002\u5373\u4f18\u5148\u7ea7 \u8d44\u6599\u63cf\u8ff0\u5668 > \u5b9e\u4f8b\u5b57\u5178 > \u975e\u8d44\u6599\u63cf\u8ff0\u5668\u3002 \n",
      "\u8981\u60f3\u5199\u4e00\u4e2a\u53ea\u8bfb\u7684\u8d44\u6599\u63cf\u8ff0\u5668\uff0c\u53ea\u9700\u540c\u65f6\u5b9a\u4e49`__get__()`\u548c`__set__()`\u5e76\u5728`__set__()`\u4e2d\u629b\u51fa\u4e00\u4e2aAttributeError\u3002"
     ]
    },
    {
     "cell_type": "markdown",
     "metadata": {},
     "source": [
      "Python\u4e2d\u5305\u62ec\u51fd\u6570\uff0c\u5c5e\u6027, \u9759\u6001\u65b9\u6cd5, \u7c7b\u65b9\u6cd5\u8fd9\u4e9b\u6280\u672f\u90fd\u662f\u57fa\u4e8e\u63cf\u8ff0\u5668\u3002"
     ]
    },
    {
     "cell_type": "markdown",
     "metadata": {},
     "source": [
      "## \u4e0a\u4e0b\u6587\u7ba1\u7406\u5668"
     ]
    },
    {
     "cell_type": "markdown",
     "metadata": {},
     "source": [
      "\u4e0a\u4e0b\u6587\u7ba1\u7406\u5668\u662fPython2.5\u5f00\u59cb\u652f\u6301\u7684\u4e00\u79cd\u8bed\u6cd5\uff0c\u7528\u4e8e\u5904\u7406\u6307 \u5b9a\u4ee3\u7801\u5757\u8fdb\u5165\u548c\u9000\u51fa\u65f6\u7684\u64cd\u4f5c\u3002\u4e00\u822c\u4f7f\u7528with\u8bed\u6cd5\uff0c\u4e5f\u53ef\u4ee5\u76f4\u63a5\u8c03\u7528\u76f8\u5e94\u7684\u65b9\u6cd5\u3002"
     ]
    },
    {
     "cell_type": "markdown",
     "metadata": {},
     "source": [
      "with\u8bed\u53e5\u662f\u7528\u6765\u7b80\u5316\u201ctry/finally\u201d\u8bed\u53e5\u7684\uff0c\u901a\u5e38\u7528\u4e8e\u5904\u7406\u5171\u4eab\u8d44\u6e90\u7684\u83b7\u53d6\u548c \u91ca\u653e\uff0c\u6bd4\u5982\u6587\u4ef6\u3001\u6570\u636e\u5e93\u548c\u7ebf\u7a0b\u8d44\u6e90\u3002\u6bd4\u5982\uff1a"
     ]
    },
    {
     "cell_type": "code",
     "collapsed": false,
     "input": [
      "with VAR = EXPR:\n",
      "    BLOCK"
     ],
     "language": "python",
     "metadata": {},
     "outputs": []
    },
    {
     "cell_type": "markdown",
     "metadata": {},
     "source": [
      "\u76f8\u5f53\u4e8e\u8fdb\u884c\u4e86\u5982\u4e0b\u64cd\u4f5c\uff1a"
     ]
    },
    {
     "cell_type": "code",
     "collapsed": false,
     "input": [
      "VAR = EXPR\n",
      "VAR.__enter__()\n",
      "try:\n",
      "    BLOCK\n",
      "finally:\n",
      "    VAR.__exit__()"
     ],
     "language": "python",
     "metadata": {},
     "outputs": []
    },
    {
     "cell_type": "markdown",
     "metadata": {},
     "source": [
      "\u4e0b\u9762\u901a\u8fc7\u4e00\u4e2a\u5b9e\u9645\u7684\u4f8b\u5b50\u6765\u5c55\u793a\u4e0a\u4e0b\u6587\u7ba1\u7406\u5668\u7684\u521b\u5efa\u548c\u4f7f\u7528\u3002"
     ]
    },
    {
     "cell_type": "code",
     "collapsed": false,
     "input": [
      "import time\n",
      "class timeit:\n",
      "    def __init__(self,label):\n",
      "        self.label = label\n",
      "\n",
      "    def __enter__(self):\n",
      "        self.start = time.time()\n",
      "\n",
      "    def __exit__(self, exc_ty, exc_val, exc_tb):\n",
      "        end = time.time()\n",
      "        print ('{}: {}'.format(self.label, end - self.start))"
     ],
     "language": "python",
     "metadata": {},
     "outputs": [],
     "prompt_number": 7
    },
    {
     "cell_type": "code",
     "collapsed": false,
     "input": [
      "with timeit('counting'):\n",
      "    n = 10000\n",
      "    while n > 0:\n",
      "        n -= 1;"
     ],
     "language": "python",
     "metadata": {},
     "outputs": [
      {
       "output_type": "stream",
       "stream": "stdout",
       "text": [
        "counting: 0.00204801559448\n"
       ]
      }
     ],
     "prompt_number": 8
    },
    {
     "cell_type": "markdown",
     "metadata": {},
     "source": [
      "\u4e0a\u8ff0\u4e5f\u53ef\u5229\u7528@contextmanager\u88c5\u9970\u5668\u6765\u7b80\u5316\u4ee3\u7801\u3002"
     ]
    },
    {
     "cell_type": "code",
     "collapsed": false,
     "input": [
      "from contextlib import contextmanager\n",
      "import time\n",
      "\n",
      "@contextmanager\n",
      "def timeit(label):\n",
      "    start = time.time()\n",
      "    try:\n",
      "        yield\n",
      "    finally:\n",
      "        end = time.time()\n",
      "        print('{}: {}'.format(label, end - start))"
     ],
     "language": "python",
     "metadata": {},
     "outputs": [],
     "prompt_number": 9
    },
    {
     "cell_type": "code",
     "collapsed": false,
     "input": [
      "with timeit('counting'):\n",
      "    n = 10000\n",
      "    while n > 0:\n",
      "        n -= 1;"
     ],
     "language": "python",
     "metadata": {},
     "outputs": [
      {
       "output_type": "stream",
       "stream": "stdout",
       "text": [
        "counting: 0.00185394287109\n"
       ]
      }
     ],
     "prompt_number": 10
    },
    {
     "cell_type": "markdown",
     "metadata": {},
     "source": [
      "## \u7334\u5b50\u8865\u4e01"
     ]
    },
    {
     "cell_type": "markdown",
     "metadata": {},
     "source": [
      "\u7334\u5b50\u8865\u4e01\u662f\u7528\u6765\u5728\u8fd0\u884c\u65f6\u52a8\u6001\u4fee\u6539\u5df2\u6709\u7684\u4ee3\u7801\u3002\u5b83\u53ef\u4ee5\u4e0d\u53bb\u6539\u53d8\u6e90\u7801\u800c\u5bf9\u529f\u80fd\u8fdb\u884c\u8ffd\u52a0\u548c\u53d8\u66f4\u3002"
     ]
    },
    {
     "cell_type": "markdown",
     "metadata": {},
     "source": [
      "\u6bd4\u5982\u5728\u524d\u9762\u7c7b\u7684\u7ae0\u8282\u4e2d\uff0c\u7236\u7c7b\u7684job\u662f\u5de5\u4eba\u3002\u73b0\u5728\u664b\u5347\u4e3a\u7ba1\u7406\u5c42\u4e86\uff0c\u8fd9\u65f6\u4e0d\u9700\u8981\u4fee\u6539\u539f\u4ee3\u7801\uff0c\u53ea\u8981\u52a0\u4e2a\u8865\u4e01\u5c31\u641e\u5b9a\u3002"
     ]
    },
    {
     "cell_type": "code",
     "collapsed": false,
     "input": [
      "class Parent():\n",
      "    name = \"tom\"\n",
      "        \n",
      "    def job(self):\n",
      "        print(\"Worker\")"
     ],
     "language": "python",
     "metadata": {},
     "outputs": [],
     "prompt_number": 11
    },
    {
     "cell_type": "code",
     "collapsed": false,
     "input": [
      "tom = Parent()"
     ],
     "language": "python",
     "metadata": {},
     "outputs": [],
     "prompt_number": 12
    },
    {
     "cell_type": "code",
     "collapsed": false,
     "input": [
      "tom.job()"
     ],
     "language": "python",
     "metadata": {},
     "outputs": [
      {
       "output_type": "stream",
       "stream": "stdout",
       "text": [
        "Worker\n"
       ]
      }
     ],
     "prompt_number": 13
    },
    {
     "cell_type": "code",
     "collapsed": false,
     "input": [
      "def new_job():\n",
      "    print(\"Manager\")"
     ],
     "language": "python",
     "metadata": {},
     "outputs": [],
     "prompt_number": 14
    },
    {
     "cell_type": "code",
     "collapsed": false,
     "input": [
      "tom.job = new_job"
     ],
     "language": "python",
     "metadata": {},
     "outputs": [],
     "prompt_number": 15
    },
    {
     "cell_type": "code",
     "collapsed": false,
     "input": [
      "tom.job()"
     ],
     "language": "python",
     "metadata": {},
     "outputs": [
      {
       "output_type": "stream",
       "stream": "stdout",
       "text": [
        "Manager\n"
       ]
      }
     ],
     "prompt_number": 16
    },
    {
     "cell_type": "code",
     "collapsed": false,
     "input": [],
     "language": "python",
     "metadata": {},
     "outputs": []
    }
   ],
   "metadata": {}
  }
 ]
}