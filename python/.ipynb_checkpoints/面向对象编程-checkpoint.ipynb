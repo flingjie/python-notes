{
 "metadata": {
  "kernelspec": {
   "display_name": "Python 3",
   "language": "python",
   "name": "python3"
  },
  "language_info": {
   "codemirror_mode": {
    "name": "ipython",
    "version": 3
   },
   "file_extension": ".py",
   "mimetype": "text/x-python",
   "name": "python",
   "nbconvert_exporter": "python",
   "pygments_lexer": "ipython3",
   "version": "3.4.3"
  },
  "name": "",
  "signature": "sha256:b334706b3db03c8f984527e56f1241b2e681bff6690ad433ca1e4cebcf684f76"
 },
 "nbformat": 3,
 "nbformat_minor": 0,
 "worksheets": [
  {
   "cells": [
    {
     "cell_type": "markdown",
     "metadata": {},
     "source": [
      "Python\u662f\u4e00\u95e8\u9762\u5411\u5bf9\u8c61\u7684\u8bed\u8a00\uff0c\u8fd9\u91cc\u5c06\u7b80\u5355\u56de\u987e\u4e00\u4e0b\u7c7b\u7684\u57fa\u672c\u77e5\u8bc6\u3002"
     ]
    },
    {
     "cell_type": "markdown",
     "metadata": {},
     "source": [
      "## \u5b9a\u4e49"
     ]
    },
    {
     "cell_type": "code",
     "collapsed": true,
     "input": [
      "# \u5b9a\u4e49\u7c7b\n",
      "class Parent():\n",
      "    name = \"tom\""
     ],
     "language": "python",
     "metadata": {},
     "outputs": [],
     "prompt_number": 1
    },
    {
     "cell_type": "code",
     "collapsed": true,
     "input": [
      "# \u521b\u5efa\u5b9e\u4f8b\n",
      "tom = Parent()"
     ],
     "language": "python",
     "metadata": {},
     "outputs": [],
     "prompt_number": 2
    },
    {
     "cell_type": "code",
     "collapsed": false,
     "input": [
      "tom.name"
     ],
     "language": "python",
     "metadata": {},
     "outputs": [
      {
       "metadata": {},
       "output_type": "pyout",
       "prompt_number": 3,
       "text": [
        "'tom'"
       ]
      }
     ],
     "prompt_number": 3
    },
    {
     "cell_type": "markdown",
     "metadata": {},
     "source": [
      "## \u65b9\u6cd5"
     ]
    },
    {
     "cell_type": "markdown",
     "metadata": {},
     "source": [
      "\u7c7b\u7684\u65b9\u6cd5\u53ef\u5206\u4e3a\u4e09\u79cd\uff0c\u9759\u6001\u65b9\u6cd5\u3001\u7c7b\u65b9\u6cd5\u3001\u5b9e\u4f8b\u65b9\u6cd5\u3002\u4f7f\u7528\u4e0e\u533a\u522b\u5982\u4e0b\u56fe\uff1a"
     ]
    },
    {
     "cell_type": "markdown",
     "metadata": {},
     "source": [
      "|   | \u9759\u6001\u65b9\u6cd5  | \u7c7b\u65b9\u6cd5  | \u5b9e\u4f8b\u65b9\u6cd5  |\n",
      "|---|---|---|---|\n",
      "| \u6807\u8bb0\u7b26  | @staticmethod    |  @classmethod | \u65e0  |   \n",
      "| \u8c03\u7528\u5bf9\u8c61  | \u7c7b\u548c\u5b9e\u4f8b  | \u7c7b  | \u5b9e\u4f8b  |   \n",
      "| \u9690\u542b\u8c03\u7528\u53c2\u6570 | \u65e0 | \u7c7b | \u5b9e\u4f8b |"
     ]
    },
    {
     "cell_type": "markdown",
     "metadata": {},
     "source": [
      "\u4e3e\u4f8b\u6765\u8bf4\uff1a"
     ]
    },
    {
     "cell_type": "code",
     "collapsed": false,
     "input": [
      "class Parent():\n",
      "    name = \"tom\"\n",
      "    \n",
      "    @staticmethod\n",
      "    def daily():\n",
      "        print(\"working\")\n",
      "        \n",
      "    @classmethod\n",
      "    def get_name(cls):\n",
      "        print(cls.name)\n",
      "        \n",
      "    def job(self):\n",
      "        print(\"Worker\")"
     ],
     "language": "python",
     "metadata": {},
     "outputs": [],
     "prompt_number": 4
    },
    {
     "cell_type": "code",
     "collapsed": false,
     "input": [
      "# \u9759\u6001\u65b9\u6cd5\n",
      "Parent.daily()"
     ],
     "language": "python",
     "metadata": {},
     "outputs": [
      {
       "output_type": "stream",
       "stream": "stdout",
       "text": [
        "working\n"
       ]
      }
     ],
     "prompt_number": 5
    },
    {
     "cell_type": "code",
     "collapsed": false,
     "input": [
      "# \u7c7b\u65b9\u6cd5\n",
      "Parent.get_name()"
     ],
     "language": "python",
     "metadata": {},
     "outputs": [
      {
       "output_type": "stream",
       "stream": "stdout",
       "text": [
        "tom\n"
       ]
      }
     ],
     "prompt_number": 6
    },
    {
     "cell_type": "code",
     "collapsed": false,
     "input": [
      "# \u5b9e\u4f8b\u65b9\u6cd5\n",
      "tom = Parent()\n",
      "tom.job()"
     ],
     "language": "python",
     "metadata": {},
     "outputs": [
      {
       "output_type": "stream",
       "stream": "stdout",
       "text": [
        "Worker\n"
       ]
      }
     ],
     "prompt_number": 7
    },
    {
     "cell_type": "markdown",
     "metadata": {},
     "source": [
      "## \u7ee7\u627f"
     ]
    },
    {
     "cell_type": "code",
     "collapsed": false,
     "input": [
      "class Child(Parent):\n",
      "    pass"
     ],
     "language": "python",
     "metadata": {},
     "outputs": [],
     "prompt_number": 8
    },
    {
     "cell_type": "code",
     "collapsed": false,
     "input": [
      "child = Child()"
     ],
     "language": "python",
     "metadata": {},
     "outputs": [],
     "prompt_number": 9
    },
    {
     "cell_type": "code",
     "collapsed": false,
     "input": [
      "# \u6b64\u65f6\u5b50\u7c7b\u5c5e\u6027\u4e0e\u7236\u7c7b\u76f8\u540c\n",
      "child.name"
     ],
     "language": "python",
     "metadata": {},
     "outputs": [
      {
       "metadata": {},
       "output_type": "pyout",
       "prompt_number": 10,
       "text": [
        "'tom'"
       ]
      }
     ],
     "prompt_number": 10
    },
    {
     "cell_type": "markdown",
     "metadata": {},
     "source": [
      "## \u91cd\u8f7d"
     ]
    },
    {
     "cell_type": "code",
     "collapsed": true,
     "input": [
      "# \u91cd\u8f7d\n",
      "class Child(Parent):\n",
      "    name = \"jack\"\n",
      "    \n",
      "    def job(self):\n",
      "        print(\"Student\")"
     ],
     "language": "python",
     "metadata": {},
     "outputs": [],
     "prompt_number": 11
    },
    {
     "cell_type": "code",
     "collapsed": false,
     "input": [
      "jack = Child()"
     ],
     "language": "python",
     "metadata": {},
     "outputs": [],
     "prompt_number": 12
    },
    {
     "cell_type": "code",
     "collapsed": true,
     "input": [
      "# \u6b64\u65f6\u66f4\u65b0\u4e86\u5b50\u7c7b\u7684\u6570\u636e\n",
      "jack.name"
     ],
     "language": "python",
     "metadata": {},
     "outputs": [
      {
       "metadata": {},
       "output_type": "pyout",
       "prompt_number": 13,
       "text": [
        "'jack'"
       ]
      }
     ],
     "prompt_number": 13
    },
    {
     "cell_type": "code",
     "collapsed": false,
     "input": [
      "jack.job()"
     ],
     "language": "python",
     "metadata": {},
     "outputs": [
      {
       "output_type": "stream",
       "stream": "stdout",
       "text": [
        "Student\n"
       ]
      }
     ],
     "prompt_number": 14
    },
    {
     "cell_type": "code",
     "collapsed": false,
     "input": [],
     "language": "python",
     "metadata": {},
     "outputs": []
    }
   ],
   "metadata": {}
  }
 ]
}