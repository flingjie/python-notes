{
 "cells": [
  {
   "cell_type": "markdown",
   "metadata": {},
   "source": [
    "# 一、环境配置\n",
    "\n",
    "（开发环境为Ubuntu 14.04系统）\n",
    "\n",
    "## virtualenv\n",
    "virtualenv是Python的一个环境管理工具。安装virtualenv主要是为了建立一个独立的python开发环境。这样可以在一台机器上建立多个有不同需求的环境。可以建立有不同版本程序的环境。比方说可以搭建一个Flask的环境，也可以搭建Django的环境，两个环境之间互不影响。使用如下：\n",
    "\n",
    "1.安装  \n",
    "`sudo apt-get install virtualenvwrapper`\n",
    "\n",
    "2.创建虚拟环境  \n",
    "`virtualenv -p python3 ENV_NAME`\n",
    "\n",
    "这里的`-p python3`是指定创建时Python3作为解释器；`ENV_NAME`是虚拟环境的名字，可以任意取。\n",
    "\n",
    "3.加载虚拟环境  \n",
    "`source ENV_NAME\\bin\\active`\n",
    "\n",
    "4.退出虚拟环境  \n",
    "`deactive`\n",
    "\n",
    "## ipython\n",
    "它支持代码自动补全，支持高亮，支持shell命令。  \n",
    "安装命令：  \n",
    "`pip3 install ipython`"
   ]
  }
 ],
 "metadata": {
  "kernelspec": {
   "display_name": "Python 3",
   "language": "python",
   "name": "python3"
  },
  "language_info": {
   "codemirror_mode": {
    "name": "ipython",
    "version": 3
   },
   "file_extension": ".py",
   "mimetype": "text/x-python",
   "name": "python",
   "nbconvert_exporter": "python",
   "pygments_lexer": "ipython3",
   "version": "3.4.0"
  }
 },
 "nbformat": 4,
 "nbformat_minor": 0
}
