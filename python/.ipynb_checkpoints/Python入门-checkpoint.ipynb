{
 "metadata": {
  "name": "",
  "signature": "sha256:44ad6ea6e334cef65e24cef9df4279d87a6dabb88bcad228909da2403408dfa3"
 },
 "nbformat": 3,
 "nbformat_minor": 0,
 "worksheets": [
  {
   "cells": [
    {
     "cell_type": "markdown",
     "metadata": {},
     "source": [
      "# Python\u5165\u95e8\n",
      "Pythoner\u6709\u4e91\uff1a\u4eba\u751f\u82e6\u77ed\uff0cPython\u662f\u5cb8\u3002\n",
      "\u4f5c\u4e3a\u4e00\u95e8\u7b80\u5355\u4e14\u529f\u80fd\u5f3a\u5927\u7684\u7f16\u7a0b\u8bed\u8a00\uff0cPython\u5df2\u7ecf\u5728web\u5f00\u53d1\u3001\u7cfb\u7edf\u8fd0\u7ef4\u3001\u673a\u5668\u5b66\u4e60\u7b49\u5404\u4e2a\u9886\u57df\u6709\u4e86\u5e7f\u6cdb\u7684\u5e94\u7528\u3002"
     ]
    },
    {
     "cell_type": "code",
     "collapsed": false,
     "input": [],
     "language": "python",
     "metadata": {},
     "outputs": []
    }
   ],
   "metadata": {}
  }
 ]
}