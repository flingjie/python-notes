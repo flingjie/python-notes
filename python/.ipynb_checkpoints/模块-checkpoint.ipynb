{
 "metadata": {
  "name": "",
  "signature": "sha256:35c29af0a9be4ac869d295df0273cf828116f228bce1df8bdf2b84f06fe1083b"
 },
 "nbformat": 3,
 "nbformat_minor": 0,
 "worksheets": [
  {
   "cells": [
    {
     "cell_type": "markdown",
     "metadata": {},
     "source": [
      "# \u6a21\u5757"
     ]
    },
    {
     "cell_type": "markdown",
     "metadata": {},
     "source": [
      "\u7b80\u5355\u5730\u8bf4\uff0c\u6a21\u5757\u5c31\u662f\u4e00\u4e2a\u4fdd\u5b58\u4e86Python\u4ee3\u7801\u7684\u6587\u4ef6\u3002"
     ]
    },
    {
     "cell_type": "markdown",
     "metadata": {},
     "source": [
      "\u5b8c\u6574\u7684\u5b98\u65b9\u5b9a\u4e49\u662f\u8fd9\u6837\u7684\uff1a"
     ]
    },
    {
     "cell_type": "markdown",
     "metadata": {},
     "source": [
      ">\u5982\u679c\u4f60\u4ecePython\u89e3\u91ca\u5668\u9000\u51fa\u540e\u518d\u91cd\u65b0\u8fdb\u5165\uff0c \u90a3\u4e48\u4f60\u4e4b\u524d\u5b9a\u4e49\u7684\u6240\u6709\uff08\u51fd\u5f0f\u548c\u53d8\u91cf\uff09\u90fd\u5c06\u4e22\u5931\u3002\u56e0\u6b64\uff0c\u5982\u679c\u4f60\u60f3\u5199\u4e00\u4e2a\u66f4\u957f\u7684\u7a0b\u5e8f\uff0c\u4f60\u6700\u597d\u79bb\u7ebf\u5730\u4f7f\u7528\u6587\u672c\u7f16\u8f91\u5668\u4fdd\u5b58\u6210\u6587\u4ef6\uff0c\u66ff\u4ee3\u89e3\u91ca\u5668\u7684\u8f93\u5165\u6765\u8fd0\u884c\u3002\u8fd9\u79f0\u4f5c\u521b\u5efa\u4e00\u4e2a\u811a\u672c\u3002\u5f53\u4f60\u7684\u7a0b\u5e8f\u53d8\u5f97\u66f4\u957f\uff0c\u4f60\u53ef\u80fd\u60f3\u628a\u5b83\u5206\u5272\u6210\u51e0\u4e2a\u6587\u4ef6\u4ee5\u80fd\u591f\u66f4\u7b80\u5355\u5730\u7ef4\u62a4\u3002\u4f60\u4e5f\u8bb8\u8fd8\u60f3\u5728\u51e0\u4e2a\u4e0b\u540c\u7684\u7a0b\u5e8f\u91cc\u4f7f\u7528\u5199\u8fc7\u7684\u7a0b\u5e8f\uff0c\u800c\u4e0d\u7528\u628a\u4e00\u5768\u4ee3\u7801\u62f7\u6765\u62f7\u53bb\u3002  \n",
      ">\u4e3a\u6b64Python\u63d0\u4f9b\u4e86\u65b9\u6cd5\uff0c\u80fd\u4f7f\u7528\u6237\u628a\u5b9a\u4e49\u5b58\u653e\u5728\u6587\u4ef6\u91cc\uff0c\u540c\u65f6\u53c8\u80fd\u5728\u811a\u672c\u6216\u4ea4\u4e92\u5f0f\u73af\u5883\u4e0b\u65b9\u4fbf\u7684\u4f7f\u7528\u5b83\u4eec\u3002\u8fd9\u6837\u7684\u6587\u4ef6\u79f0\u4e3a\u6a21\u5757\u00a0\u3002\u4e00\u4e2a\u6a21\u5757\u4e2d\u7684\u5b9a\u4e49\u53ef\u4ee5\u5bfc\u5165\uff08import\uff09\u00a0\u5230\u53e6\u4e00\u4e2a\u6a21\u5757\u6216\u4e3b\u6a21\u5757\uff08\u4e3b\u6a21\u5757\u662f\u6267\u884c\u811a\u672c\u7684\u6700\u4e0a\u5c42\u6216\u8ba1\u7b97\u6a21\u5f0f\u4e0b\u7684\u4e00\u7ec4\u53ef\u8bbf\u95ee\u53d8\u91cf\u7684\u96c6\u5408\uff09\u3002  \n",
      ">\u6a21\u5757\u5c31\u662f\u5305\u542b Python \u5b9a\u4e49\u548c\u8bed\u53e5\u7684\u6587\u4ef6\u3002 \u6587\u4ef6\u7684\u540d\u5b57\u5c31\u662f\u8fd9\u4e2a\u6a21\u5757\u540d\u518d\u52a0\u4e0a\u00a0.py\u3002 \u5728\u4e00\u4e2a\u6a21\u5757\u4e2d\uff0c \u6a21\u5757\u7684\u540d\u5b57\uff08\u4e00\u4e2a\u5b57\u7b26\u4e32\uff09\u53ef\u4ee5\u901a\u8fc7\u5168\u5c40\u53d8\u91cf\u00a0`__name__`\u00a0\u5f97\u5230\u3002"
     ]
    },
    {
     "cell_type": "markdown",
     "metadata": {},
     "source": [
      "\u6a21\u5757\u662fPyhon\u9ad8\u5c42\u6b21\u7684\u7ec4\u7ec7\u5355\u5143\uff0c\u5b83\u5c06\u7a0b\u5e8f\u4ee3\u7801\u548c\u6570\u636e\u5c01\u88c5\u8d77\u6765\u4ee5\u4fbf\u91cd\u7528\u3002"
     ]
    },
    {
     "cell_type": "markdown",
     "metadata": {},
     "source": [
      "\u6bd4\u5982\u65b0\u5efa\u4e00\u4e2a\u540d\u4e3amy_module.py\u7684Python\u6587\u4ef6\uff0c\u5185\u5bb9\u5982\u4e0b\uff1a"
     ]
    },
    {
     "cell_type": "code",
     "collapsed": false,
     "input": [
      "# my_module.py\n",
      "\n",
      "def print_hello():\n",
      "    print(\"Hello\")\n"
     ],
     "language": "python",
     "metadata": {},
     "outputs": [],
     "prompt_number": 1
    },
    {
     "cell_type": "markdown",
     "metadata": {},
     "source": [
      "\u8fd9\u6837\u5b9a\u4e49\u4e86\u4e00\u4e2a\u6a21\u5757\u540e\uff0c\u5c31\u53ef\u4ee5\u901a\u8fc7import\u6216from ... import ...\u7b49\u5173\u952e\u5b57\u5bfc\u5165\u5e76\u8fdb\u884c\u4f7f\u7528\u3002"
     ]
    },
    {
     "cell_type": "code",
     "collapsed": false,
     "input": [
      "# \u4f7f\u7528import\u65b9\u6cd5\n",
      "import my_module\n",
      "my_module.print_hello()"
     ],
     "language": "python",
     "metadata": {},
     "outputs": [
      {
       "output_type": "stream",
       "stream": "stdout",
       "text": [
        "Hello\n"
       ]
      }
     ],
     "prompt_number": 4
    },
    {
     "cell_type": "code",
     "collapsed": false,
     "input": [
      "# \u4f7f\u7528from ... import ... \u65b9\u6cd5\n",
      "from my_module import print_hello\n",
      "print_hello()"
     ],
     "language": "python",
     "metadata": {},
     "outputs": [
      {
       "output_type": "stream",
       "stream": "stdout",
       "text": [
        "Hello\n"
       ]
      }
     ],
     "prompt_number": 5
    },
    {
     "cell_type": "markdown",
     "metadata": {},
     "source": [
      "## \u5305"
     ]
    },
    {
     "cell_type": "markdown",
     "metadata": {},
     "source": [
      "\u9664\u4e86\u6a21\u5757\u4e4b\u5916\u8fd8\u6709\u4e00\u4e2a\u6982\u5ff5\uff0c\u90a3\u5c31\u662f\u5305\u3002\u5305\u662f\u4e00\u79cdPython \u6a21\u5757\u547d\u540d\u7a7a\u95f4\u7684\u7ec4\u7ec7\u65b9\u6cd5, \u901a\u8fc7\u4f7f\u7528 \u201c\u5e26\u70b9\u53f7\u7684\u6a21\u5757\u540d\u201d\u3002\u4e00\u4e2a\u5305\u542b`__init__.py`\u6587\u4ef6\u7684\u6587\u4ef6\u5939\u90fd\u53ef\u770b\u505a\u662f\u4e00\u4e2a\u5305\u3002\u6bd4\u5982\uff0c\u5efa\u7acb\u4e00\u4e2a\u540d\u4e3amy_package\u7684\u6587\u4ef6\u5939\uff0c\u5728\u5176\u4e2d\u65b0\u5efa\u4e00\u4e2a\u540d\u4e3a`__init__.py`\u7a7a\u6587\u4ef6\uff0c\u8fd9\u6837\u5c31\u662f\u4e00\u4e2aPython\u5305\u4e86\u3002\u7136\u540e\u5c31\u53ef\u4ee5\u8fd9\u4e2a\u5305\u91cc\u521b\u5efa\u4e00\u4e2a\u6a21\u5757\u4e86\u3002\u793a\u4f8b\u5982\u4e0b\uff1a"
     ]
    },
    {
     "cell_type": "code",
     "collapsed": false,
     "input": [
      "# \u5305\u76ee\u5f55\u7ed3\u6784\n",
      "!tree my_package/"
     ],
     "language": "python",
     "metadata": {},
     "outputs": [
      {
       "output_type": "stream",
       "stream": "stdout",
       "text": [
        "my_package/\r\n",
        "\u251c\u2500\u2500 functions.py\r\n",
        "\u2514\u2500\u2500 __init__.py\r\n",
        "\r\n",
        "0 directories, 2 files\r\n"
       ]
      }
     ],
     "prompt_number": 7
    },
    {
     "cell_type": "code",
     "collapsed": false,
     "input": [
      "# \u5bfc\u5165\u5305\n",
      "from my_package import functions\n",
      "functions.print_hello()"
     ],
     "language": "python",
     "metadata": {},
     "outputs": [
      {
       "output_type": "stream",
       "stream": "stdout",
       "text": [
        "I'm from a package.\n"
       ]
      }
     ],
     "prompt_number": 8
    },
    {
     "cell_type": "markdown",
     "metadata": {},
     "source": [
      "## \u5e38\u7528\u6a21\u5757"
     ]
    },
    {
     "cell_type": "markdown",
     "metadata": {},
     "source": [
      "### os"
     ]
    },
    {
     "cell_type": "markdown",
     "metadata": {},
     "source": [
      " \u8fd9\u4e2a\u6a21\u5757\u5305\u542b\u666e\u904d\u7684\u64cd\u4f5c\u7cfb\u7edf\u529f\u80fd\u3002\u5982\u679c\u4f60\u5e0c\u671b\u4f60\u7684\u7a0b\u5e8f\u80fd\u591f\u4e0e\u5e73\u53f0\u65e0\u5173\u7684\u8bdd\uff0c\u8fd9\u4e2a\u6a21\u5757\u662f\u5c24\u4e3a\u91cd\u8981\u7684\u3002"
     ]
    },
    {
     "cell_type": "code",
     "collapsed": false,
     "input": [
      "# \u5bfc\u5165\u6a21\u5757\n",
      "import os"
     ],
     "language": "python",
     "metadata": {},
     "outputs": [],
     "prompt_number": 10
    },
    {
     "cell_type": "code",
     "collapsed": false,
     "input": [
      "# \u751f\u6210\u6587\u4ef6\u8def\u5f84\n",
      "os.path.join(dir_name, filename)"
     ],
     "language": "python",
     "metadata": {},
     "outputs": []
    },
    {
     "cell_type": "code",
     "collapsed": false,
     "input": [
      "# \u5224\u65ad\u6587\u4ef6\u5939\u662f\u5426\u5b58\u5728\n",
      "os.path.isdir(dir_name)"
     ],
     "language": "python",
     "metadata": {},
     "outputs": []
    },
    {
     "cell_type": "code",
     "collapsed": false,
     "input": [
      "# \u5224\u65ad\u6587\u4ef6\u662f\u5426\u5b58\u5728\n",
      "os.path.isfile(filename)"
     ],
     "language": "python",
     "metadata": {},
     "outputs": []
    },
    {
     "cell_type": "code",
     "collapsed": false,
     "input": [
      "# \u751f\u6210\u6587\u4ef6\u5939\n",
      "os.mkdir(dir_name)"
     ],
     "language": "python",
     "metadata": {},
     "outputs": []
    },
    {
     "cell_type": "code",
     "collapsed": false,
     "input": [
      "# \u9012\u5f52\u751f\u6210\u6587\u4ef6\u5939\n",
      "os.makedirs(dir_name)"
     ],
     "language": "python",
     "metadata": {},
     "outputs": []
    },
    {
     "cell_type": "code",
     "collapsed": false,
     "input": [
      "# \u5220\u9664\u6587\u4ef6\n",
      "os.remove(filename)"
     ],
     "language": "python",
     "metadata": {},
     "outputs": []
    },
    {
     "cell_type": "code",
     "collapsed": false,
     "input": [
      "# \u5220\u9664\u6587\u4ef6\u5939\u53ca\u5176\u5185\u5bb9\n",
      "import shutil\n",
      "shutil.rmtree(dir_name)"
     ],
     "language": "python",
     "metadata": {},
     "outputs": []
    },
    {
     "cell_type": "markdown",
     "metadata": {},
     "source": [
      "### datetime"
     ]
    },
    {
     "cell_type": "markdown",
     "metadata": {},
     "source": [
      "\u65f6\u95f4\u6a21\u5757"
     ]
    },
    {
     "cell_type": "code",
     "collapsed": false,
     "input": [
      "from datetime import datetime\n",
      "\n",
      "# \u83b7\u53d6\u5f53\u524d\u65f6\u95f4\n",
      "datetime.now()"
     ],
     "language": "python",
     "metadata": {},
     "outputs": [
      {
       "metadata": {},
       "output_type": "pyout",
       "prompt_number": 13,
       "text": [
        "datetime.datetime(2015, 4, 6, 9, 36, 9, 510754)"
       ]
      }
     ],
     "prompt_number": 13
    },
    {
     "cell_type": "code",
     "collapsed": false,
     "input": [
      "# \u683c\u5f0f\u5316\u8f93\u51fa\n",
      "t = datetime.now()\n",
      "t.strftime(\"%Y-%m-%d %H:%M:%S\")"
     ],
     "language": "python",
     "metadata": {},
     "outputs": [
      {
       "metadata": {},
       "output_type": "pyout",
       "prompt_number": 15,
       "text": [
        "'2015-04-06 09:37:12'"
       ]
      }
     ],
     "prompt_number": 15
    },
    {
     "cell_type": "code",
     "collapsed": false,
     "input": [
      "# \u683c\u5f0f\u5316\u8f93\u5165\n",
      "s = \"20150301\"\n",
      "datetime.strptime(s, \"%Y%M%d\")"
     ],
     "language": "python",
     "metadata": {},
     "outputs": [
      {
       "metadata": {},
       "output_type": "pyout",
       "prompt_number": 16,
       "text": [
        "datetime.datetime(2015, 1, 1, 0, 3)"
       ]
      }
     ],
     "prompt_number": 16
    },
    {
     "cell_type": "markdown",
     "metadata": {},
     "source": [
      "### json"
     ]
    },
    {
     "cell_type": "markdown",
     "metadata": {},
     "source": [
      "json\u683c\u5f0f\u8f6c\u6362"
     ]
    },
    {
     "cell_type": "code",
     "collapsed": false,
     "input": [
      "import json\n",
      "data = {\"a\": 1, \"b\": 2}\n",
      "\n",
      "# json\u8f6c\u5b57\u7b26\u4e32\n",
      "json.dumps(data)"
     ],
     "language": "python",
     "metadata": {},
     "outputs": [
      {
       "metadata": {},
       "output_type": "pyout",
       "prompt_number": 18,
       "text": [
        "'{\"a\": 1, \"b\": 2}'"
       ]
      }
     ],
     "prompt_number": 18
    },
    {
     "cell_type": "code",
     "collapsed": false,
     "input": [
      "# \u5b57\u7b26\u4e32\u8f6cjson\n",
      "s = '{\"a\": 1, \"b\": 2}'\n",
      "json_data = json.loads(s)"
     ],
     "language": "python",
     "metadata": {},
     "outputs": [],
     "prompt_number": 19
    },
    {
     "cell_type": "code",
     "collapsed": false,
     "input": [
      "json_data[\"a\"]"
     ],
     "language": "python",
     "metadata": {},
     "outputs": [
      {
       "metadata": {},
       "output_type": "pyout",
       "prompt_number": 20,
       "text": [
        "1"
       ]
      }
     ],
     "prompt_number": 20
    },
    {
     "cell_type": "markdown",
     "metadata": {},
     "source": [
      "### re"
     ]
    },
    {
     "cell_type": "markdown",
     "metadata": {},
     "source": [
      "\u6b63\u5219\u6a21\u5757"
     ]
    },
    {
     "cell_type": "code",
     "collapsed": false,
     "input": [
      "import re\n",
      "\n",
      "# \u68c0\u67e5\u5339\u914d\n",
      "p = re.compile(\"[a-z]+\")"
     ],
     "language": "python",
     "metadata": {},
     "outputs": [],
     "prompt_number": 21
    },
    {
     "cell_type": "code",
     "collapsed": false,
     "input": [
      "# \u6709\u5339\u914d\uff0c\u8fd4\u56de\u5339\u914d\u9879\n",
      "p.match(\"abc\")"
     ],
     "language": "python",
     "metadata": {},
     "outputs": [
      {
       "metadata": {},
       "output_type": "pyout",
       "prompt_number": 22,
       "text": [
        "<_sre.SRE_Match at 0x7f3fdbc285e0>"
       ]
      }
     ],
     "prompt_number": 22
    },
    {
     "cell_type": "code",
     "collapsed": false,
     "input": [
      "# \u65e0\u5339\u914d\uff0c \u65e0\u8fd4\u56de\n",
      "p.match(\"123\")"
     ],
     "language": "python",
     "metadata": {},
     "outputs": [],
     "prompt_number": 23
    },
    {
     "cell_type": "code",
     "collapsed": false,
     "input": [
      "# \u67e5\u627e\u6240\u6709\u5339\u914d\u9879\n",
      "p.findall(\"abc123def555zz\")"
     ],
     "language": "python",
     "metadata": {},
     "outputs": [
      {
       "metadata": {},
       "output_type": "pyout",
       "prompt_number": 24,
       "text": [
        "['abc', 'def', 'zz']"
       ]
      }
     ],
     "prompt_number": 24
    },
    {
     "cell_type": "code",
     "collapsed": false,
     "input": [],
     "language": "python",
     "metadata": {},
     "outputs": []
    }
   ],
   "metadata": {}
  }
 ]
}